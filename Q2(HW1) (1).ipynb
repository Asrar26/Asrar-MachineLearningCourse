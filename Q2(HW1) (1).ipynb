{
 "cells": [
  {
   "cell_type": "code",
   "execution_count": 1,
   "metadata": {
    "colab": {
     "base_uri": "https://localhost:8080/"
    },
    "id": "BrJZZmfiKZmV",
    "outputId": "3c15210a-7e63-412a-96a1-dea7af70eceb"
   },
   "outputs": [
    {
     "name": "stdout",
     "output_type": "stream",
     "text": [
      "(300, 3)\n",
      "(200, 3)\n"
     ]
    }
   ],
   "source": [
    "import numpy as np\n",
    "import pandas as pd\n",
    "from sklearn.preprocessing import StandardScaler\n",
    "from sklearn.datasets import make_regression\n",
    "from sklearn.model_selection import train_test_split\n",
    "from matplotlib import pyplot as plt\n",
    "dataset=pd.read_csv('dataset_q2_q4.csv')\n",
    "dataset\n",
    "y=dataset['y_label']\n",
    "X=dataset.drop('y_label', axis=1)\n",
    "\n",
    "X=np.array(X)\n",
    "y=np.array(y)\n",
    "\n",
    "x_train,x_test,y_train,y_test=train_test_split(X,y,test_size=.4)\n",
    "\n",
    "print(x_train.shape)\n",
    "print(x_test.shape)\n",
    "\n",
    "#x,y = make_regression(n_samples=500,n_features=3, random_state= 10)\n",
    "#n_samples, n_features= x.shape\n",
    "#x.shape"
   ]
  },
  {
   "cell_type": "code",
   "execution_count": 2,
   "metadata": {
    "colab": {
     "base_uri": "https://localhost:8080/",
     "height": 418
    },
    "id": "NesOzjw9K1ZU",
    "outputId": "e22bc432-7d39-4a7b-cad2-b944cb9662ae"
   },
   "outputs": [
    {
     "name": "stderr",
     "output_type": "stream",
     "text": [
      "<ipython-input-2-a2298b9eb51a>:21: RuntimeWarning: overflow encountered in matmul\n",
      "  grad_theta2=np.matmul((x2**3)+(theta3*(x3**3)),(y_hat-y_train))/y.size\n",
      "<ipython-input-2-a2298b9eb51a>:21: RuntimeWarning: invalid value encountered in matmul\n",
      "  grad_theta2=np.matmul((x2**3)+(theta3*(x3**3)),(y_hat-y_train))/y.size\n",
      "<ipython-input-2-a2298b9eb51a>:22: RuntimeWarning: overflow encountered in matmul\n",
      "  grad_theta3=np.matmul((-x2**3)+(theta2*(x3**3)),(y_hat-y_train))/y.size\n",
      "<ipython-input-2-a2298b9eb51a>:22: RuntimeWarning: invalid value encountered in matmul\n",
      "  grad_theta3=np.matmul((-x2**3)+(theta2*(x3**3)),(y_hat-y_train))/y.size\n"
     ]
    },
    {
     "name": "stdout",
     "output_type": "stream",
     "text": [
      "thetas: 212777763.82411838 1452679980156698.8 nan nan\n",
      "loss= 6.610158915064944e+16\n"
     ]
    },
    {
     "data": {
      "image/png": "[encoded data removed]",
      "text/plain": [
       "<Figure size 432x288 with 1 Axes>"
      ]
     },
     "metadata": {
      "needs_background": "light"
     },
     "output_type": "display_data"
    }
   ],
   "source": [
    "\n",
    "def fit_m1(x,y,lr=0.01,num_iters=5000):\n",
    "    theta0=0\n",
    "    theta=np.zeros(X.shape[1])\n",
    "    theta1=theta[0]\n",
    "    theta2=theta[1]\n",
    "    theta3=theta[2]\n",
    "    x1=x[:,0]\n",
    "    x2=x[:,1]\n",
    "    x3=x[:,2]\n",
    "    \n",
    "    losses=[]\n",
    "    for i in range(num_iters):\n",
    "        y_hat=(3*theta[0]*x1**2)+(theta[1]*x3**3)-(theta[2]*x2**3)+(theta[1]*theta[2]*x3**3)+theta0\n",
    "        \n",
    "        loss=sum((y_train-y_hat)**2)/(y.size*2)\n",
    "        losses.append(loss)\n",
    "        \n",
    "        grad_theta0=np.sum(y_hat-y_train)/(y.size)\n",
    "        grad_theta1=np.matmul((3*x1**2),(y_hat-y_train))/y.size\n",
    "        \n",
    "        grad_theta2=np.matmul((x2**3)+(theta3*(x3**3)),(y_hat-y_train))/y.size\n",
    "        grad_theta3=np.matmul((-x2**3)+(theta2*(x3**3)),(y_hat-y_train))/y.size\n",
    "        \n",
    "        theta0 -=lr*grad_theta0\n",
    "        theta1 -=lr*grad_theta1\n",
    "        theta2 -=lr*grad_theta2\n",
    "        theta3 -=lr*grad_theta3\n",
    "        \n",
    "    plt.xlabel(\"iteration\")\n",
    "    plt.ylabel(\"cost\")\n",
    "    plt.plot(list(range(num_iters)),losses)\n",
    "    \n",
    "    print(\"thetas:\",theta0,theta1,theta2,theta3)\n",
    "    print(\"loss=\",loss)\n",
    "\n",
    "    \n",
    "fit_m1(x_train,y_train)\n",
    "\n",
    "\n",
    "    \n",
    "\n",
    "    \n"
   ]
  },
  {
   "cell_type": "code",
   "execution_count": null,
   "metadata": {
    "id": "doCCUpcaL-ci"
   },
   "outputs": [],
   "source": []
  }
 ],
 "metadata": {
  "colab": {
   "collapsed_sections": [],
   "name": "Q2-Final2.ipynb",
   "provenance": []
  },
  "kernelspec": {
   "display_name": "Python 3",
   "language": "python",
   "name": "python3"
  },
  "language_info": {
   "codemirror_mode": {
    "name": "ipython",
    "version": 3
   },
   "file_extension": ".py",
   "mimetype": "text/x-python",
   "name": "python",
   "nbconvert_exporter": "python",
   "pygments_lexer": "ipython3",
   "version": "3.8.8"
  }
 },
 "nbformat": 4,
 "nbformat_minor": 1
}

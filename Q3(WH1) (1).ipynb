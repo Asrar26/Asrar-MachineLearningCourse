{
 "cells": [
  {
   "cell_type": "code",
   "execution_count": 1,
   "metadata": {
    "id": "riy1qgF6FN38"
   },
   "outputs": [],
   "source": [
    "import numpy as np\n",
    "import pandas as pd\n",
    "import matplotlib.pyplot as plt\n",
    "import seaborn as sns\n",
    "from sklearn.datasets import make_regression"
   ]
  },
  {
   "cell_type": "code",
   "execution_count": 2,
   "metadata": {
    "id": "dOXpxsHDFUt3"
   },
   "outputs": [],
   "source": [
    "X, Y = make_regression(n_samples=500, n_features=15,n_informative=1, noise=7, bias=50, random_state=10)\n",
    "\n",
    "n_samples, n_features= X.shape\n",
    "\n",
    "from sklearn.model_selection import train_test_split\n",
    "X_train, X_test, Y_train, Y_test = train_test_split(X, Y, test_size=0.30)"
   ]
  },
  {
   "cell_type": "code",
   "execution_count": 3,
   "metadata": {
    "colab": {
     "base_uri": "https://localhost:8080/"
    },
    "id": "mhJLoABCFaoP",
    "outputId": "0dda939e-87c4-4840-e143-a8a9f10a1c18"
   },
   "outputs": [
    {
     "name": "stdout",
     "output_type": "stream",
     "text": [
      "Linear Regression coefficients: [ 2.83005550e-02  1.01456403e-01 -5.79821458e-01 -7.07095120e-02\n",
      "  2.79289678e-02  3.07294498e-01 -4.77608969e-01  3.27172121e-01\n",
      "  8.63450033e-01 -4.16501825e-01 -3.43790050e-01 -5.04229831e-02\n",
      "  4.63006977e+01 -1.16273731e-01  7.05688598e-01]\n",
      "Linear Regression intercept: 49.91890389493611\n",
      "m =  0.9753000227419867\n",
      "b=  1.289446697257117\n"
     ]
    }
   ],
   "source": [
    "from sklearn.linear_model import LinearRegression\n",
    "lm = LinearRegression()\n",
    "lm.fit(X_train, Y_train)\n",
    "\n",
    "print('Linear Regression coefficients: {}'.format(lm.coef_))\n",
    "print('Linear Regression intercept: {}'.format(lm.intercept_))\n",
    "\n",
    "y_train_predict = lm.predict(X_train)\n",
    "\n",
    "\n",
    "b, m = np.polynomial.polynomial.polyfit(Y_train, y_train_predict, 1)\n",
    "\n",
    "print(\"m = \", m)\n",
    "print(\"b= \", b)"
   ]
  },
  {
   "cell_type": "code",
   "execution_count": 4,
   "metadata": {
    "colab": {
     "base_uri": "https://localhost:8080/"
    },
    "id": "VPMpO-K4FdFL",
    "outputId": "749b4a86-a257-46a7-81cb-4e10436f6271"
   },
   "outputs": [
    {
     "name": "stdout",
     "output_type": "stream",
     "text": [
      "The linear model performance for training set\n",
      "RMSE is 55.219524934212885\n",
      "R2 score is 0.9753000227419866\n"
     ]
    }
   ],
   "source": [
    "from sklearn.metrics import mean_squared_error, r2_score\n",
    "rmse = mean_squared_error(Y_train, y_train_predict)\n",
    "\n",
    "r2 = r2_score(Y_train, y_train_predict)\n",
    " \n",
    "print(\"The linear model performance for training set\")\n",
    "print('RMSE is {}'.format(rmse))\n",
    "\n",
    "print('R2 score is {}'.format(r2))"
   ]
  },
  {
   "cell_type": "code",
   "execution_count": 5,
   "metadata": {
    "colab": {
     "base_uri": "https://localhost:8080/"
    },
    "id": "qmLzUxV6Fwqu",
    "outputId": "213b3f21-b6b7-47e7-dab2-cc280c260ad7"
   },
   "outputs": [
    {
     "name": "stdout",
     "output_type": "stream",
     "text": [
      "\n",
      "The linear model performance for testing set\n",
      "RMSE is 48.944044143757736\n",
      "R2 score is 0.9782023227620549\n"
     ]
    }
   ],
   "source": [
    "# r2 linear for test set \n",
    "# square error of the model\n",
    "y_test_predict = lm.predict(X_test)\n",
    "rmse = (mean_squared_error(Y_test, y_test_predict))\n",
    " \n",
    "# r-squared score of the model\n",
    "r2 = r2_score(Y_test, y_test_predict)\n",
    "\n",
    "print(\"\\nThe linear model performance for testing set\")\n",
    "print('RMSE is {}'.format(rmse))\n",
    "print('R2 score is {}'.format(r2)) "
   ]
  },
  {
   "cell_type": "code",
   "execution_count": 6,
   "metadata": {
    "colab": {
     "base_uri": "https://localhost:8080/",
     "height": 370
    },
    "id": "oyQferL6F3wO",
    "outputId": "0e3f4f59-cd36-4c0e-cab8-b6f6330dedbb"
   },
   "outputs": [
    {
     "name": "stderr",
     "output_type": "stream",
     "text": [
      "C:\\Users\\kade1\\anaconda3\\lib\\site-packages\\seaborn\\distributions.py:2557: FutureWarning: `distplot` is a deprecated function and will be removed in a future version. Please adapt your code to use either `displot` (a figure-level function with similar flexibility) or `histplot` (an axes-level function for histograms).\n",
      "  warnings.warn(msg, FutureWarning)\n",
      "C:\\Users\\kade1\\anaconda3\\lib\\site-packages\\seaborn\\distributions.py:2557: FutureWarning: `distplot` is a deprecated function and will be removed in a future version. Please adapt your code to use either `displot` (a figure-level function with similar flexibility) or `histplot` (an axes-level function for histograms).\n",
      "  warnings.warn(msg, FutureWarning)\n"
     ]
    },
    {
     "data": {
      "image/png": "[encoded data removed]",
      "text/plain": [
       "<Figure size 432x288 with 2 Axes>"
      ]
     },
     "metadata": {
      "needs_background": "light"
     },
     "output_type": "display_data"
    }
   ],
   "source": [
    "# linear bargraph \n",
    "\n",
    "y_train_residual = y_train_predict - Y_train\n",
    "y_test_residual = y_test_predict - Y_test\n",
    "\n",
    "plt.subplot(1, 2, 1)\n",
    "sns.distplot(y_train_residual, bins=15)\n",
    "plt.title('errorTocorret-for Training Set')\n",
    "\n",
    "plt.subplot(1, 2, 2)\n",
    "sns.distplot(y_test_residual, bins=15)\n",
    "plt.title('errorTocorret-for Test Set')\n",
    "\n",
    "plt.show()"
   ]
  },
  {
   "cell_type": "code",
   "execution_count": 7,
   "metadata": {
    "colab": {
     "base_uri": "https://localhost:8080/"
    },
    "id": "xOA2tcHAF86M",
    "outputId": "f7692e7e-18df-4641-f993-b986b6a28fb0"
   },
   "outputs": [
    {
     "name": "stdout",
     "output_type": "stream",
     "text": [
      "The Ridge model performance for the train dataset\n",
      "RMSE of test set is 7.43098423510531\n",
      "R2 score of test set is 0.9753000219510748\n"
     ]
    }
   ],
   "source": [
    " #evaluating the Ridge-model on train  data-set\n",
    "from sklearn.linear_model import Ridge\n",
    "\n",
    "rr = Ridge(alpha=0.01)\n",
    "rr.fit(X_train, Y_train) \n",
    "\n",
    "pred_train_rr= rr.predict(X_train)\n",
    "print(\"The Ridge model performance for the train dataset\")\n",
    "\n",
    "print(\"RMSE of test set is\",np.sqrt(mean_squared_error(Y_train,pred_train_rr))) \n",
    "print(\"R2 score of test set is\",r2_score(Y_train, pred_train_rr))"
   ]
  },
  {
   "cell_type": "code",
   "execution_count": 8,
   "metadata": {
    "colab": {
     "base_uri": "https://localhost:8080/"
    },
    "id": "k-BGelfHGBdX",
    "outputId": "8a706478-701e-4b68-f358-819289526427"
   },
   "outputs": [
    {
     "name": "stdout",
     "output_type": "stream",
     "text": [
      "RMSE of test set is 48.944651856240654\n",
      "R2 score of test set is 0.9782020521117483\n"
     ]
    }
   ],
   "source": [
    "# evaluating the Ridge-model on test  data-set\n",
    "\n",
    "from sklearn.linear_model import Ridge\n",
    "rr = Ridge(alpha=0.01)\n",
    "rr.fit(X_train, Y_train)\n",
    "pred_test_rr= rr.predict(X_test)\n",
    "\n",
    "\n",
    "print(\"RMSE of test set is\",mean_squared_error(Y_test,pred_test_rr)) \n",
    "print(\"R2 score of test set is\",r2_score(Y_test, pred_test_rr))\n"
   ]
  },
  {
   "cell_type": "code",
   "execution_count": 9,
   "metadata": {
    "colab": {
     "base_uri": "https://localhost:8080/",
     "height": 370
    },
    "id": "U_HzBbg4GLVC",
    "outputId": "71c4969e-60c2-49c1-dc69-ba58f86ec1f8"
   },
   "outputs": [
    {
     "name": "stderr",
     "output_type": "stream",
     "text": [
      "C:\\Users\\kade1\\anaconda3\\lib\\site-packages\\seaborn\\distributions.py:2557: FutureWarning: `distplot` is a deprecated function and will be removed in a future version. Please adapt your code to use either `displot` (a figure-level function with similar flexibility) or `histplot` (an axes-level function for histograms).\n",
      "  warnings.warn(msg, FutureWarning)\n",
      "C:\\Users\\kade1\\anaconda3\\lib\\site-packages\\seaborn\\distributions.py:2557: FutureWarning: `distplot` is a deprecated function and will be removed in a future version. Please adapt your code to use either `displot` (a figure-level function with similar flexibility) or `histplot` (an axes-level function for histograms).\n",
      "  warnings.warn(msg, FutureWarning)\n"
     ]
    },
    {
     "data": {
      "image/png": "[encoded data removed]",
      "text/plain": [
       "<Figure size 432x288 with 2 Axes>"
      ]
     },
     "metadata": {
      "needs_background": "light"
     },
     "output_type": "display_data"
    }
   ],
   "source": [
    "# bargraph for Ridge \n",
    "y_train_residual_rr = pred_train_rr - Y_train\n",
    "y_test_residual_rr = pred_test_rr - Y_test\n",
    "\n",
    "plt.subplot(1, 2, 1)\n",
    "sns.distplot(y_train_residual_rr, bins=20)\n",
    "plt.title('errorTocorret-for Training Set')\n",
    "\n",
    "plt.subplot(1, 2, 2)\n",
    "sns.distplot(y_test_residual_rr, bins=20)\n",
    "plt.title('errorTocorret-for Test Set')\n",
    "\n",
    "plt.show()"
   ]
  },
  {
   "cell_type": "code",
   "execution_count": 10,
   "metadata": {
    "colab": {
     "base_uri": "https://localhost:8080/"
    },
    "id": "5owVpqGjGOBq",
    "outputId": "192d1678-747c-4bf3-e9a8-20a0ca1bd394"
   },
   "outputs": [
    {
     "name": "stdout",
     "output_type": "stream",
     "text": [
      "The polynomial model performance for the training set\n",
      "RMSE of training set is 7.992660425428052e-26\n",
      "R2 score of training set is 1.0\n"
     ]
    }
   ],
   "source": [
    "#ply-model\n",
    "from sklearn.preprocessing import PolynomialFeatures\n",
    "\"Creates a polynomial regression model for the given degree\"\n",
    "poly_features = PolynomialFeatures(degree=4)\n",
    "   \n",
    "X_train_poly = poly_features.fit_transform(X_train)\n",
    "   \n",
    "poly_model = LinearRegression()\n",
    "\n",
    "poly_model.fit(X_train_poly, Y_train)\n",
    "     \n",
    "# predicting on training data-set\n",
    "y_train_predicted = poly_model.predict(X_train_poly)\n",
    "# train set\n",
    "rmse_train = mean_squared_error(Y_train, y_train_predicted)\n",
    "r2_train = r2_score(Y_train, y_train_predicted)\n",
    "     \n",
    "print(\"The polynomial model performance for the training set\")\n",
    "print(\"RMSE of training set is {}\".format(rmse_train))\n",
    "print(\"R2 score of training set is {}\".format(r2_train))"
   ]
  },
  {
   "cell_type": "code",
   "execution_count": 11,
   "metadata": {
    "colab": {
     "base_uri": "https://localhost:8080/"
    },
    "id": "B6V5SGHJGTGg",
    "outputId": "27310392-c329-464e-cf47-f3d80d4991ef"
   },
   "outputs": [
    {
     "name": "stdout",
     "output_type": "stream",
     "text": [
      "The polynomial model performance for the test set\n",
      "RMSE of test set is 831.0252921118378\n",
      "R2 score of test set is 0.6298952934739619\n"
     ]
    }
   ],
   "source": [
    "# ply test \n",
    "# predicting on test data-set\n",
    "y_test_predicted = poly_model.predict(poly_features.fit_transform(X_test))\n",
    "rmse_test = mean_squared_error(Y_test, y_test_predicted)\n",
    "r2_test = r2_score(Y_test, y_test_predicted)\n",
    "\n",
    "print(\"The polynomial model performance for the test set\")\n",
    "print(\"RMSE of test set is {}\".format(rmse_test))\n",
    "print(\"R2 score of test set is {}\".format(r2_test))"
   ]
  },
  {
   "cell_type": "code",
   "execution_count": 12,
   "metadata": {
    "colab": {
     "base_uri": "https://localhost:8080/",
     "height": 383
    },
    "id": "dC0MB7JBGfGI",
    "outputId": "057be4f2-35ac-483f-e472-1ab3aebafe7d"
   },
   "outputs": [
    {
     "name": "stderr",
     "output_type": "stream",
     "text": [
      "C:\\Users\\kade1\\anaconda3\\lib\\site-packages\\seaborn\\distributions.py:2557: FutureWarning: `distplot` is a deprecated function and will be removed in a future version. Please adapt your code to use either `displot` (a figure-level function with similar flexibility) or `histplot` (an axes-level function for histograms).\n",
      "  warnings.warn(msg, FutureWarning)\n",
      "C:\\Users\\kade1\\anaconda3\\lib\\site-packages\\seaborn\\distributions.py:2557: FutureWarning: `distplot` is a deprecated function and will be removed in a future version. Please adapt your code to use either `displot` (a figure-level function with similar flexibility) or `histplot` (an axes-level function for histograms).\n",
      "  warnings.warn(msg, FutureWarning)\n"
     ]
    },
    {
     "data": {
      "image/png": "[encoded data removed]",
      "text/plain": [
       "<Figure size 432x288 with 2 Axes>"
      ]
     },
     "metadata": {
      "needs_background": "light"
     },
     "output_type": "display_data"
    }
   ],
   "source": [
    "# bargraph for poly \n",
    "y_train_residual = y_train_predicted - Y_train\n",
    "y_test_residual = y_test_predicted - Y_test\n",
    "\n",
    "plt.subplot(1, 2, 1)\n",
    "sns.distplot(y_train_residual, bins=20)\n",
    "plt.title('for Training Set [Polynomial Model]')\n",
    "\n",
    "plt.subplot(1, 2, 2)\n",
    "sns.distplot(y_test_residual, bins=20)\n",
    "plt.title('for Test Set [Polynomial Model]')\n",
    "\n",
    "plt.show()"
   ]
  },
  {
   "cell_type": "code",
   "execution_count": 13,
   "metadata": {
    "id": "0-9KJNUgGh0T"
   },
   "outputs": [],
   "source": [
    "#Lasso Model \n",
    "from sklearn.linear_model import Lasso\n",
    "\n",
    "model_lasso = Lasso(alpha=0.03)\n",
    "model_lasso.fit(X_train, Y_train) \n",
    "pred_train_lasso= model_lasso.predict(X_train)\n",
    "\n",
    "\n",
    "b, m = np.polynomial.polynomial.polyfit(Y_train, pred_train_lasso, 1)\n",
    "\n",
    "pred_test_lasso= model_lasso.predict(X_test)"
   ]
  },
  {
   "cell_type": "code",
   "execution_count": 14,
   "metadata": {
    "colab": {
     "base_uri": "https://localhost:8080/"
    },
    "id": "YYYqLJ12GkTC",
    "outputId": "7809aa24-2582-4b39-b8a7-7d31e05840c2"
   },
   "outputs": [
    {
     "name": "stdout",
     "output_type": "stream",
     "text": [
      "RMSE of train set is 55.23227784800806\n",
      "R2 score of train set is 0.975294318298113\n"
     ]
    }
   ],
   "source": [
    "#run training set \n",
    "\n",
    "print(\"RMSE of train set is\",mean_squared_error(Y_train,pred_train_lasso))\n",
    "print(\"R2 score of train set is\",r2_score(Y_train, pred_train_lasso))"
   ]
  },
  {
   "cell_type": "code",
   "execution_count": 15,
   "metadata": {
    "colab": {
     "base_uri": "https://localhost:8080/"
    },
    "id": "36sBr8_mGqMQ",
    "outputId": "918f60a2-c33d-4f69-806e-74fb9583006c"
   },
   "outputs": [
    {
     "name": "stdout",
     "output_type": "stream",
     "text": [
      "RMSE of test set is 48.57198337271385\n",
      "R2 score of test set is 0.9783680234257821\n"
     ]
    }
   ],
   "source": [
    "#run testing  set \n",
    "\n",
    "pred_test_lasso= model_lasso.predict(X_test)\n",
    "\n",
    "print(\"RMSE of test set is\",mean_squared_error(Y_test,pred_test_lasso))\n",
    "print(\"R2 score of test set is\",r2_score(Y_test, pred_test_lasso))"
   ]
  },
  {
   "cell_type": "code",
   "execution_count": 16,
   "metadata": {
    "colab": {
     "base_uri": "https://localhost:8080/",
     "height": 370
    },
    "id": "r2xrTOU2GuLX",
    "outputId": "97679578-110e-4b4e-cd61-3c4d49adf597"
   },
   "outputs": [
    {
     "name": "stderr",
     "output_type": "stream",
     "text": [
      "C:\\Users\\kade1\\anaconda3\\lib\\site-packages\\seaborn\\distributions.py:2557: FutureWarning: `distplot` is a deprecated function and will be removed in a future version. Please adapt your code to use either `displot` (a figure-level function with similar flexibility) or `histplot` (an axes-level function for histograms).\n",
      "  warnings.warn(msg, FutureWarning)\n",
      "C:\\Users\\kade1\\anaconda3\\lib\\site-packages\\seaborn\\distributions.py:2557: FutureWarning: `distplot` is a deprecated function and will be removed in a future version. Please adapt your code to use either `displot` (a figure-level function with similar flexibility) or `histplot` (an axes-level function for histograms).\n",
      "  warnings.warn(msg, FutureWarning)\n"
     ]
    },
    {
     "data": {
      "image/png": "[encoded data removed]",
      "text/plain": [
       "<Figure size 432x288 with 2 Axes>"
      ]
     },
     "metadata": {
      "needs_background": "light"
     },
     "output_type": "display_data"
    }
   ],
   "source": [
    "# bargraph for Lasso \n",
    "\n",
    "y_train_residual_Lasso1 = pred_train_lasso - Y_train\n",
    "y_test_residual_Lasso1 = pred_test_lasso - Y_test\n",
    "\n",
    "plt.subplot(1, 2, 1)\n",
    "sns.distplot(y_train_residual_Lasso1, bins=20)\n",
    "plt.title('Residual Lasso Training Set ')\n",
    "\n",
    "plt.subplot(1, 2, 2)\n",
    "sns.distplot(y_test_residual_Lasso1, bins=20)\n",
    "plt.title('Residual Lasso for Test Set')\n",
    "\n",
    "plt.show()"
   ]
  },
  {
   "cell_type": "code",
   "execution_count": null,
   "metadata": {
    "id": "1odEiRAoG36d"
   },
   "outputs": [],
   "source": []
  },
  {
   "cell_type": "code",
   "execution_count": null,
   "metadata": {},
   "outputs": [],
   "source": []
  }
 ],
 "metadata": {
  "colab": {
   "name": "Q2-final.ipynb",
   "provenance": []
  },
  "kernelspec": {
   "display_name": "Python 3",
   "language": "python",
   "name": "python3"
  },
  "language_info": {
   "codemirror_mode": {
    "name": "ipython",
    "version": 3
   },
   "file_extension": ".py",
   "mimetype": "text/x-python",
   "name": "python",
   "nbconvert_exporter": "python",
   "pygments_lexer": "ipython3",
   "version": "3.8.8"
  }
 },
 "nbformat": 4,
 "nbformat_minor": 1
}
